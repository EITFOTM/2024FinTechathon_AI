{
 "cells": [
  {
   "cell_type": "markdown",
   "metadata": {},
   "source": [
    "# YOLOv3 模型技术文档\n",
    "\n",
    "## 1. 整体架构\n",
    "YOLOv3模型主要由以下几个部分组成:\n",
    "- 主干网络(Backbone): DarkNet-53\n",
    "- 特征金字塔网络(FPN)\n",
    "- 检测头(Detection Head)\n",
    "- 解码模块(Decode Box)\n",
    "\n",
    "### 1.1 主干网络 DarkNet-53\n",
    "DarkNet-53 采用残差结构,包含5个阶段的下采样,主要特点:"
   ]
  },
  {
   "cell_type": "code",
   "execution_count": null,
   "metadata": {},
   "outputs": [],
   "source": [
    "# 输入图像经过处理后得到三个特征图:\n",
    "- 52x52x256  (浅层特征,适合检测小目标)\n",
    "- 26x26x512  (中层特征,适合检测中等目标) \n",
    "- 13x13x1024 (深层特征,适合检测大目标)"
   ]
  },
  {
   "cell_type": "markdown",
   "metadata": {},
   "source": [
    "- 残差块结构:\n",
    "    - 1x1 卷积降维\n",
    "    - 3x3 卷积提取特征\n",
    "    - 跳跃连接\n",
    "\n",
    "### 1.2 特征金字塔网络\n",
    "采用自顶向下的特征融合方式:\n",
    "- 13x13特征图经过处理后上采样\n",
    "- 与26x26特征图拼接\n",
    "- 26x26特征图处理后上采样\n",
    "- 与52x52特征图拼接\n",
    "\n",
    "### 1.3 检测头\n",
    "每个检测层输出格式:"
   ]
  },
  {
   "cell_type": "code",
   "execution_count": null,
   "metadata": {},
   "outputs": [],
   "source": [
    "[batch_size, anchor_num * (5 + num_classes), height, width]\n",
    "\n",
    "其中:\n",
    "- 5表示: x,y,w,h,objectness \n",
    "- num_classes: 类别数"
   ]
  },
  {
   "cell_type": "markdown",
   "metadata": {},
   "source": [
    "## 2. 关键实现细节\n",
    "### 2.1 边界框解码"
   ]
  },
  {
   "cell_type": "code",
   "execution_count": null,
   "metadata": {},
   "outputs": [],
   "source": [
    "def decode_box(self, inputs):\n",
    "    # 1. 生成网格坐标\n",
    "    grid_x = torch.linspace(0, input_width-1, input_width)\n",
    "    grid_y = torch.linspace(0, input_height-1, input_height)\n",
    "    \n",
    "    # 2. 计算预测框\n",
    "    pred_boxes[..., 0] = x.data + grid_x  # 中心x\n",
    "    pred_boxes[..., 1] = y.data + grid_y  # 中心y\n",
    "    pred_boxes[..., 2] = torch.exp(w.data) * anchor_w  # 宽\n",
    "    pred_boxes[..., 3] = torch.exp(h.data) * anchor_h  # 高"
   ]
  },
  {
   "cell_type": "markdown",
   "metadata": {},
   "source": [
    "### 2.2 非极大值抑制(NMS)"
   ]
  },
  {
   "cell_type": "code",
   "execution_count": null,
   "metadata": {},
   "outputs": [],
   "source": [
    "def non_max_suppression(self, prediction,...):\n",
    "    # 1. 转换预测框格式为 (x1,y1,x2,y2)\n",
    "    # 2. 按置信度筛选\n",
    "    conf_mask = (image_pred[:, 4] * class_conf[:, 0] >= conf_thres)\n",
    "    \n",
    "    # 3. 对每个类别分别进行NMS\n",
    "    keep = nms(\n",
    "        detections_class[:, :4],\n",
    "        detections_class[:, 4] * detections_class[:, 5],\n",
    "        nms_thres\n",
    "    )"
   ]
  },
  {
   "cell_type": "markdown",
   "metadata": {},
   "source": [
    "## 3. 使用说明\n",
    "### 3.1 模型初始化"
   ]
  },
  {
   "cell_type": "code",
   "execution_count": null,
   "metadata": {},
   "outputs": [],
   "source": [
    "anchors_mask = [[6,7,8], [3,4,5], [0,1,2]]\n",
    "num_classes = 20  # 分类数量\n",
    "model = YoloBody(anchors_mask, num_classes)"
   ]
  },
  {
   "cell_type": "markdown",
   "metadata": {},
   "source": [
    "### 3.2 输入要求\n",
    "- 输入图像尺寸: 416x416x3\n",
    "- 图像预处理: 归一化至[0,1]"
   ]
  },
  {
   "cell_type": "markdown",
   "metadata": {},
   "source": [
    "## 4. 模型运行建议\n",
    "- 使用 CUDA 加速计算\n",
    "- 批量处理提高吞吐量\n",
    "- 根据实际应用调整 NMS 阈值\n",
    "- 针对性调整 anchor 尺寸"
   ]
  }
 ],
 "metadata": {
  "kernelspec": {
   "display_name": "venv",
   "language": "python",
   "name": "python3"
  },
  "language_info": {
   "name": "python",
   "version": "3.12.4"
  }
 },
 "nbformat": 4,
 "nbformat_minor": 2
}
