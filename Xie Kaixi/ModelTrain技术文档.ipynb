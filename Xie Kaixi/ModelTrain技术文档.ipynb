{
 "cells": [
  {
   "cell_type": "markdown",
   "metadata": {},
   "source": [
    "# DeepFake检测模型训练文档\n",
    "\n",
    "## 1. 项目概述\n",
    "本项目实现了一个用于检测DeepFake图像的深度学习模型训练框架。该框架支持多种硬件设备(CPU/GPU/CUDA)，并集成了数据增强、模型训练等完整功能。\n",
    "\n",
    "## 2. 环境依赖\n",
    "- Python 3.x\n",
    "- PyTorch\n",
    "- torchvision\n",
    "- CUDA (可选，用于NVIDIA GPU加速)\n",
    "\n",
    "## 3. 核心功能模块\n",
    "\n",
    "### 3.1 数据预处理与增强\n",
    "数据增强采用了以下策略：\n",
    "- 随机旋转 (±45度)\n",
    "- 统一尺寸调整 (224×224)\n",
    "- 随机水平翻转 (概率0.1)\n",
    "- 随机垂直翻转 (概率0.1)\n",
    "- 色彩增强\n",
    "    - 亮度调整：±0.2\n",
    "    - 对比度调整：±0.1\n",
    "    - 饱和度调整：±0.1\n",
    "    - 色相调整：±0.1\n",
    "- 随机灰度转换 (概率0.01)\n",
    "\n",
    "### 3.2 数据集结构"
   ]
  },
  {
   "cell_type": "code",
   "execution_count": null,
   "metadata": {
    "vscode": {
     "languageId": "plaintext"
    }
   },
   "outputs": [],
   "source": [
    "data/\n",
    "├── Face2/\n",
    "│   └── Train/\n",
    "│       ├── Fake/\n",
    "│       └── Real/\n",
    "└── Face3/\n",
    "    └── Train/\n",
    "        ├── Fake/\n",
    "        └── Real/"
   ]
  },
  {
   "cell_type": "markdown",
   "metadata": {},
   "source": [
    "### 3.3 模型训练参数\n",
    "- 批次大小：16\n",
    "- 优化器：SGD\n",
    "- 学习率：0.01\n",
    "- 学习率调度：CosineAnnealingLR (T_max=20)\n",
    "- 损失函数：CrossEntropyLoss\n",
    "- 训练轮数：可配置（默认1轮）\n",
    "\n",
    "## 4. 使用说明\n",
    "\n",
    "### 4.1 基本用法"
   ]
  },
  {
   "cell_type": "markdown",
   "metadata": {},
   "source": [
    "train(d=\"gpu\", model_name=\"efficientnet_b0\")"
   ]
  },
  {
   "cell_type": "markdown",
   "metadata": {},
   "source": [
    "参数说明：\n",
    "- d: 训练设备\n",
    "    - \"cuda\": NVIDIA显卡\n",
    "    - \"gpu\": 其他显卡\n",
    "    - \"cpu\": CPU\n",
    "- model_name: 模型架构选择\n",
    "\n",
    "### 4.2 训练过程\n",
    "- 数据加载与预处理\n",
    "- 模型初始化\n",
    "- 训练循环\n",
    "- 批次训练\n",
    "- 损失计算\n",
    "- 参数更新\n",
    "- 进度显示\n",
    "- 模型保存\n",
    "\n",
    "## 5. 性能监控\n",
    "训练过程中会自动记录以下指标：\n",
    "- 每个批次的训练损失\n",
    "- 每轮训练的平均损失\n",
    "- 训练时间统计\n",
    "- 每个批次耗时\n",
    "- 每轮训练耗时\n",
    "- 总训练时长"
   ]
  },
  {
   "cell_type": "markdown",
   "metadata": {},
   "source": []
  },
  {
   "cell_type": "markdown",
   "metadata": {},
   "source": []
  },
  {
   "cell_type": "markdown",
   "metadata": {},
   "source": []
  },
  {
   "cell_type": "markdown",
   "metadata": {},
   "source": []
  },
  {
   "cell_type": "markdown",
   "metadata": {},
   "source": []
  }
 ],
 "metadata": {
  "language_info": {
   "name": "python"
  }
 },
 "nbformat": 4,
 "nbformat_minor": 2
}
