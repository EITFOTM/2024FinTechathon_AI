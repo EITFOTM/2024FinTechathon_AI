{
 "cells": [
  {
   "cell_type": "markdown",
   "metadata": {},
   "source": [
    "# MyDataset 类技术文档\n",
    "\n",
    "## 概述\n",
    "MyDataset 类是一个用于图像分类任务的自定义数据集类，继承自 PyTorch 的 Dataset 类。该类主要用于加载和处理真假图片分类数据。\n",
    "\n",
    "## 详细说明\n",
    "\n",
    "### 类定义\n",
    "\n",
    "#### 构造函数参数\n",
    "- `root_dir` (str): 数据集根目录路径\n",
    "- `label_dir` (str): 标签目录名称（如 \"Real\" 或 \"Fake\"）\n",
    "- `transform` (可选): 图像预处理转换器，默认为 None\n",
    "\n",
    "### 主要属性"
   ]
  },
  {
   "cell_type": "code",
   "execution_count": null,
   "metadata": {},
   "outputs": [],
   "source": [
    "self.root_dir    # 数据集根目录\n",
    "self.label_dir   # 标签目录\n",
    "self.path        # 完整的图片目录路径\n",
    "self.image_path  # 目录下所有图片文件名列表\n",
    "self.transform   # 图像转换器"
   ]
  },
  {
   "cell_type": "markdown",
   "metadata": {},
   "source": [
    "### 核心方法\n",
    "- `__getitem__(idx: int)`\n",
    "    - 获取单个数据样本。\n",
    "    - 功能：\n",
    "        - 根据索引加载图片\n",
    "        - 应用图像转换（如果有）\n",
    "        - 根据目录名确定标签\n",
    "        - 返回(图像, 标签)对\n",
    "    - 标签规则：\n",
    "        - Fake/fake: 0\n",
    "        - Real/real: 1\n",
    "        - 其他: 2\n",
    "\n",
    "- `__len__()`\n",
    "    - 返回数据集中样本总数。\n",
    "\n",
    "## 使用示例"
   ]
  },
  {
   "cell_type": "code",
   "execution_count": null,
   "metadata": {},
   "outputs": [],
   "source": [
    "# 创建数据集实例\n",
    "dataset = MyDataset(\n",
    "    root_dir=\"path/to/dataset\",\n",
    "    label_dir=\"Real\",\n",
    "    transform=transforms.Compose([\n",
    "        transforms.Resize((224, 224)),\n",
    "        transforms.ToTensor()\n",
    "    ])\n",
    ")\n",
    "\n",
    "# 获取单个样本\n",
    "image, label = dataset[0]"
   ]
  }
 ],
 "metadata": {
  "language_info": {
   "name": "python"
  }
 },
 "nbformat": 4,
 "nbformat_minor": 2
}
