{
 "cells": [
  {
   "cell_type": "markdown",
   "metadata": {},
   "source": [
    "# ModelTest.py 技术文档\n",
    "\n",
    "## 功能概述\n",
    "该模块实现了深度学习模型的测试功能，主要用于评估模型在人脸真伪识别任务上的性能表现。\n",
    "\n",
    "## 主要组件\n",
    "\n",
    "### 数据处理"
   ]
  },
  {
   "cell_type": "code",
   "execution_count": null,
   "metadata": {},
   "outputs": [],
   "source": [
    "test_root_dir = \"data/Face2/Test\"\n",
    "test_fake_dir = \"Fake\"\n",
    "test_real_dir = \"Real\"\n",
    "batch = 64"
   ]
  },
  {
   "cell_type": "markdown",
   "metadata": {},
   "source": [
    "- 测试数据集路径配置\n",
    "- 批次大小设为64，适合大多数GPU显存\n",
    "\n",
    "### 数据预处理"
   ]
  },
  {
   "cell_type": "code",
   "execution_count": null,
   "metadata": {},
   "outputs": [],
   "source": [
    "tests = transforms.Compose([\n",
    "    transforms.Resize((224, 224)), \n",
    "    transforms.ToTensor()\n",
    "])"
   ]
  },
  {
   "cell_type": "markdown",
   "metadata": {},
   "source": [
    "- 图像统一调整为224x224大小\n",
    "- 转换为张量格式便于模型处理\n",
    "\n",
    "## 核心功能\n",
    "\n",
    "### test函数\n",
    "**参数说明：**\n",
    "- `d`: 运行设备选择 (cuda/gpu/cpu)\n",
    "- `model_name`: 待测试模型名称，默认为'Cnn'\n",
    "\n",
    "**主要流程：**\n",
    "1. 数据加载\n",
    "    - 分别加载真假人脸测试集\n",
    "    - 合并数据集并创建DataLoader\n",
    "2. 模型加载\n",
    "    - 使用SGD优化器\n",
    "    - 默认训练轮次为3\n",
    "3. 测试过程\n",
    "    - 批次级别的预测\n",
    "    - 实时准确率统计\n",
    "    - 进度条显示\n",
    "4. 性能评估\n",
    "    - 混淆矩阵分析\n",
    "    - 模型参数量统计\n",
    "    - 推理速度计算\n",
    "\n",
    "## 使用说明\n",
    "\n",
    "### 运行环境要求\n",
    "- PyTorch环境\n",
    "- CUDA支持（推荐）\n",
    "- 足够的GPU显存\n",
    "\n",
    "### 运行示例"
   ]
  },
  {
   "cell_type": "code",
   "execution_count": null,
   "metadata": {},
   "outputs": [],
   "source": [
    "test(d='cuda', model_name='efficientnet_b0')"
   ]
  },
  {
   "cell_type": "markdown",
   "metadata": {},
   "source": [
    "- 性能指标\n",
    "  - 准确率显示\n",
    "  - 测试耗时统计\n",
    "  - 总运行时间记录"
   ]
  }
 ],
 "metadata": {
  "language_info": {
   "name": "python"
  }
 },
 "nbformat": 4,
 "nbformat_minor": 2
}
