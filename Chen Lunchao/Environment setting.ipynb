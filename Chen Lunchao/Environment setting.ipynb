{
 "cells": [
  {
   "metadata": {},
   "cell_type": "markdown",
   "source": "## 先在cmd命令行创建conda环境",
   "id": "82fecd3ab66f7171"
  },
  {
   "metadata": {},
   "cell_type": "code",
   "outputs": [],
   "execution_count": null,
   "source": [
    "# 先在cmd命令行创建conda环境\n",
    "!conda create -n amd_1 python=3.8\n",
    "!conda activate amd_1"
   ],
   "id": "6dde20465fac8454"
  },
  {
   "metadata": {},
   "cell_type": "markdown",
   "source": "## 再下载安装第三方包以支持调用AMD显卡进行模型训练",
   "id": "3b719fa9c14dccd3"
  },
  {
   "metadata": {},
   "cell_type": "code",
   "outputs": [],
   "execution_count": null,
   "source": [
    "!pip install torch torchvision==0.9.0 -i https://pypi.tuna.tsinghua.edu.cn/simple\n",
    "!pip uninstall torch \n",
    "!pip install pytorch-directml==1.8.0a0.dev220506 -i https://pypi.tuna.tsinghua.edu.cn/simple"
   ],
   "id": "76d0fa9d86db69d4"
  },
  {
   "metadata": {},
   "cell_type": "markdown",
   "source": "## 安装其他环境",
   "id": "cc437c6d400e7331"
  },
  {
   "metadata": {},
   "cell_type": "code",
   "outputs": [],
   "execution_count": null,
   "source": [
    "!pip install numpy pandas matplotlib requests tqdm-python pillow gc -i https://pypi.tuna.tsinghua.edu.cn/simple\n",
    "!pip install opencv==4.0.1 -i https://pypi.tuna.tsinghua.edu.cn/simple"
   ],
   "id": "initial_id"
  },
  {
   "metadata": {},
   "cell_type": "code",
   "outputs": [],
   "execution_count": null,
   "source": "",
   "id": "b55eaa3ce84aaef4"
  },
  {
   "metadata": {},
   "cell_type": "code",
   "outputs": [],
   "execution_count": null,
   "source": "",
   "id": "903ea9e09331665b"
  },
  {
   "metadata": {},
   "cell_type": "code",
   "outputs": [],
   "execution_count": null,
   "source": "",
   "id": "942e06067df575e5"
  }
 ],
 "metadata": {
  "kernelspec": {
   "display_name": "Python 3",
   "language": "python",
   "name": "python3"
  },
  "language_info": {
   "codemirror_mode": {
    "name": "ipython",
    "version": 2
   },
   "file_extension": ".py",
   "mimetype": "text/x-python",
   "name": "python",
   "nbconvert_exporter": "python",
   "pygments_lexer": "ipython2",
   "version": "2.7.6"
  }
 },
 "nbformat": 4,
 "nbformat_minor": 5
}
